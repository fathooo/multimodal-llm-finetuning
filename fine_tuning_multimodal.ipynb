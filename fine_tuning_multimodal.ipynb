{
 "cells": [
  {
   "cell_type": "code",
   "execution_count": null,
   "metadata": {},
   "outputs": [],
   "source": [
    "# Importar las librerías necesarias\n",
    "import pandas as pd\n",
    "from transformers import ChameleonProcessor, ChameleonForConditionalGeneration, AdamW, get_scheduler\n",
    "import torch\n",
    "from PIL import Image\n",
    "import requests\n",
    "import os\n",
    "from huggingface_hub import login\n",
    "from app.config.environments import TOKEN_HUGGINGFACE, MOCK_DATA_FOLDER\n",
    "\n",
    "\n",
    "FILES_PATH = 'files'"
   ]
  },
  {
   "cell_type": "code",
   "execution_count": null,
   "metadata": {},
   "outputs": [],
   "source": [
    "# Función para cargar imágenes desde una URL\n",
    "def load_image(url):\n",
    "    return Image.open(requests.get(url, stream=True).raw)"
   ]
  },
  {
   "cell_type": "code",
   "execution_count": null,
   "metadata": {},
   "outputs": [],
   "source": [
    "if not os.path.exists(FILES_PATH):\n",
    "    os.makedirs(FILES_PATH)"
   ]
  },
  {
   "cell_type": "code",
   "execution_count": null,
   "metadata": {},
   "outputs": [],
   "source": [
    "# Preparar mock data y guardarlo en un CSV\n",
    "# this data will be replace\n",
    "data = {\n",
    "    \"text\": [\n",
    "        \"Un perro corriendo en el parque.\",\n",
    "        \"Un gato saltando desde un árbol.\",\n",
    "        \"Un niño jugando con una pelota.\",\n",
    "        \"Un coche rojo estacionado en la calle.\",\n",
    "        \"Una hermosa puesta de sol.\",\n",
    "        \"Una taza de café en una mesa.\",\n",
    "        \"Un grupo de personas en una fiesta.\"\n",
    "    ],\n",
    "    \"image_url\": [\n",
    "        \"https://cdn.pixabay.com/photo/2022/09/11/15/06/dog-7447075_1280.jpg\",\n",
    "        \"https://encrypted-tbn0.gstatic.com/images?q=tbn:ANd9GcS11VtfGtvMCf5fk33z6SSMk0KLUdtg1_OG7g&s\",\n",
    "        \"https://st2.depositphotos.com/2751239/7710/i/450/depositphotos_77108351-stock-photo-two-cute-little-kids-playing.jpg\",\n",
    "        \"https://img.freepik.com/fotos-premium/coche-rojo-esta-estacionado-calle-frente-edificio_1089043-92402.jpg\",\n",
    "        \"https://i.pinimg.com/236x/d4/8a/ea/d48aea840f5de4bcf2eb4325607b277f.jpg\",\n",
    "        \"https://encrypted-tbn0.gstatic.com/images?q=tbn:ANd9GcS6fjlbTD3cmnHvy1KqXZD5b19_9nhWuEsTxg&s\",\n",
    "        \"https://img.freepik.com/fotos-premium/grupo-personas-fiesta-gorro-fiesta_670382-21629.jpg\",\n",
    "    ]\n",
    "}\n",
    "\n",
    "df = pd.DataFrame(data)\n",
    "df.to_csv(MOCK_DATA_FOLDER + '/mock_data.csv', index=False)\n",
    "\n",
    "# Cargar datos del CSV\n",
    "df = pd.read_csv(MOCK_DATA_FOLDER + '/mock_data.csv')"
   ]
  },
  {
   "cell_type": "code",
   "execution_count": null,
   "metadata": {},
   "outputs": [],
   "source": [
    "login(TOKEN_HUGGINGFACE)"
   ]
  },
  {
   "cell_type": "code",
   "execution_count": null,
   "metadata": {},
   "outputs": [],
   "source": [
    "# Inicializar el procesador y modelo\n",
    "processor = ChameleonProcessor.from_pretrained(\"facebook/chameleon-7b\")\n",
    "model = ChameleonForConditionalGeneration.from_pretrained(\"facebook/chameleon-7b\", torch_dtype=torch.bfloat16, device_map=\"cuda\")\n"
   ]
  },
  {
   "cell_type": "code",
   "execution_count": null,
   "metadata": {},
   "outputs": [],
   "source": [
    "# Función para procesar y tokenizar datos\n",
    "def process_data(text, image_url):\n",
    "    image = load_image(image_url)\n",
    "    inputs = processor(text, images=image, return_tensors=\"pt\").to(model.device)\n",
    "    return inputs"
   ]
  },
  {
   "cell_type": "code",
   "execution_count": null,
   "metadata": {},
   "outputs": [],
   "source": [
    "num_epochs = 3\n",
    "optimizer = AdamW(model.parameters(), lr=5e-5)\n",
    "num_training_steps = len(df) * num_epochs\n",
    "lr_scheduler = get_scheduler(\n",
    "    name=\"linear\", optimizer=optimizer, num_warmup_steps=0, num_training_steps=num_training_steps\n",
    ")\n",
    "\n",
    "model.train()\n",
    "for epoch in range(num_epochs):\n",
    "    for idx, row in df.iterrows():\n",
    "        text = row['text']\n",
    "        image_url = row['image_url']\n",
    "        \n",
    "        inputs = process_data(text, image_url)\n",
    "        \n",
    "        optimizer.zero_grad()\n",
    "        outputs = model(**inputs, labels=inputs[\"input_ids\"])\n",
    "        loss = outputs.loss\n",
    "        loss.backward()\n",
    "        optimizer.step()\n",
    "        lr_scheduler.step()\n",
    "        \n",
    "        print(f'Epoch {epoch}, Step {idx}, Loss: {loss.item()}')\n",
    "\n",
    "# Guardar modelo\n",
    "model.save_pretrained('finetuned_chameleon')\n",
    "processor.save_pretrained('finetuned_processor')"
   ]
  },
  {
   "cell_type": "code",
   "execution_count": null,
   "metadata": {},
   "outputs": [],
   "source": [
    "# Evaluación\n",
    "model.eval()\n",
    "for idx, row in df.iterrows():\n",
    "    text = row['text']\n",
    "    image_url = row['image_url']\n",
    "    \n",
    "    inputs = process_data(text, image_url)\n",
    "    with torch.no_grad():\n",
    "        outputs = model.generate(**inputs, max_new_tokens=50)\n",
    "    \n",
    "    print(f'Input: {text}')\n",
    "    print(f'Output: {processor.decode(outputs[0], skip_special_tokens=True)}\\n')"
   ]
  }
 ],
 "metadata": {
  "kernelspec": {
   "display_name": "venv",
   "language": "python",
   "name": "python3"
  },
  "language_info": {
   "codemirror_mode": {
    "name": "ipython",
    "version": 3
   },
   "file_extension": ".py",
   "mimetype": "text/x-python",
   "name": "python",
   "nbconvert_exporter": "python",
   "pygments_lexer": "ipython3",
   "version": "3.9.13"
  }
 },
 "nbformat": 4,
 "nbformat_minor": 2
}
